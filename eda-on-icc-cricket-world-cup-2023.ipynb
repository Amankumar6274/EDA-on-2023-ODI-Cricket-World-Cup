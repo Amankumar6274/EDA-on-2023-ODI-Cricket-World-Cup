{
 "cells": [
  {
   "cell_type": "markdown",
   "metadata": {},
   "source": [
    "![](https://th.bing.com/th/id/OIP.UM4fQknhgtY0BmrujhL9SgAAAA?w=258&h=180&c=7&r=0&o=5&dpr=1.7&pid=1.7)"
   ]
  },
  {
   "cell_type": "markdown",
   "metadata": {},
   "source": [
    "# **1.0 About Author**\n",
    "- Author: Aman Kumar\n",
    "\n",
    "- Project: Complete EDA on ICC Cricket World Cup 2023\n",
    "\n",
    "**Contact Info**\n",
    "- [Linkedin]('https://www.linkedin.com/in/aman-kumar-76036b28a?utm_source=share&utm_campaign=share_via&utm_content=profile&utm_medium=android_app')"
   ]
  },
  {
   "cell_type": "markdown",
   "metadata": {},
   "source": [
    "# **2.0 About Data**\n",
    "- [icc-mens-world-cup-2023]('/kaggle/input/icc-mens-world-cup-2023')\n",
    "\n",
    "### **Task** :\n",
    "- This is a ball by ball data of icc cricket world cup 2023 so using this data I have to do following analysis\n",
    "    - Overall Analysis\n",
    "    - Batting Analysis\n",
    "    - Bowling Analysis\n",
    "    - Player-wise Analysis\n",
    "    - Team-wise Analysis"
   ]
  },
  {
   "cell_type": "markdown",
   "metadata": {},
   "source": [
    "# **3.0 Data Processing**"
   ]
  },
  {
   "cell_type": "markdown",
   "metadata": {},
   "source": [
    "### **3.1 Importing Libraries** "
   ]
  },
  {
   "cell_type": "code",
   "execution_count": null,
   "metadata": {
    "execution": {
     "iopub.execute_input": "2024-04-20T11:17:03.826893Z",
     "iopub.status.busy": "2024-04-20T11:17:03.82637Z",
     "iopub.status.idle": "2024-04-20T11:17:05.054029Z",
     "shell.execute_reply": "2024-04-20T11:17:05.052449Z",
     "shell.execute_reply.started": "2024-04-20T11:17:03.826849Z"
    }
   },
   "outputs": [],
   "source": [
    "# For data manipulation\n",
    "import numpy as np \n",
    "import pandas as pd \n",
    "\n",
    "# For data visualization\n",
    "import matplotlib.pyplot as plt \n",
    "import seaborn as sns\n",
    "\n",
    "# Ingore the warnings\n",
    "import warnings\n",
    "warnings.filterwarnings('ignore')"
   ]
  },
  {
   "cell_type": "markdown",
   "metadata": {},
   "source": [
    "### **3.1 Loading Dataset and having a sneak peek of it**"
   ]
  },
  {
   "cell_type": "code",
   "execution_count": null,
   "metadata": {
    "execution": {
     "iopub.execute_input": "2024-04-20T11:17:05.05686Z",
     "iopub.status.busy": "2024-04-20T11:17:05.056416Z",
     "iopub.status.idle": "2024-04-20T11:17:05.238454Z",
     "shell.execute_reply": "2024-04-20T11:17:05.237276Z",
     "shell.execute_reply.started": "2024-04-20T11:17:05.056829Z"
    }
   },
   "outputs": [],
   "source": [
    "# Loading the dataset\n",
    "df = pd.read_csv('/kaggle/input/icc-mens-world-cup-2023/deliveries.csv')"
   ]
  },
  {
   "cell_type": "code",
   "execution_count": null,
   "metadata": {
    "execution": {
     "iopub.execute_input": "2024-04-20T11:17:05.240413Z",
     "iopub.status.busy": "2024-04-20T11:17:05.239961Z",
     "iopub.status.idle": "2024-04-20T11:17:05.289633Z",
     "shell.execute_reply": "2024-04-20T11:17:05.288386Z",
     "shell.execute_reply.started": "2024-04-20T11:17:05.240384Z"
    }
   },
   "outputs": [],
   "source": [
    "# Printing the first 5 rows of the dataset\n",
    "df.head()"
   ]
  },
  {
   "cell_type": "code",
   "execution_count": null,
   "metadata": {
    "execution": {
     "iopub.execute_input": "2024-04-20T11:17:05.292101Z",
     "iopub.status.busy": "2024-04-20T11:17:05.291332Z",
     "iopub.status.idle": "2024-04-20T11:17:05.346313Z",
     "shell.execute_reply": "2024-04-20T11:17:05.345233Z",
     "shell.execute_reply.started": "2024-04-20T11:17:05.292061Z"
    }
   },
   "outputs": [],
   "source": [
    "# Having a look at that how data looks like\n",
    "df.info()"
   ]
  },
  {
   "cell_type": "code",
   "execution_count": null,
   "metadata": {
    "execution": {
     "iopub.execute_input": "2024-04-20T11:17:05.349958Z",
     "iopub.status.busy": "2024-04-20T11:17:05.349607Z",
     "iopub.status.idle": "2024-04-20T11:17:05.355227Z",
     "shell.execute_reply": "2024-04-20T11:17:05.354453Z",
     "shell.execute_reply.started": "2024-04-20T11:17:05.349928Z"
    }
   },
   "outputs": [],
   "source": [
    "# Let's see the shape of the data\n",
    "df.shape"
   ]
  },
  {
   "cell_type": "code",
   "execution_count": null,
   "metadata": {
    "execution": {
     "iopub.execute_input": "2024-04-20T11:17:05.357047Z",
     "iopub.status.busy": "2024-04-20T11:17:05.356239Z",
     "iopub.status.idle": "2024-04-20T11:17:05.377598Z",
     "shell.execute_reply": "2024-04-20T11:17:05.376407Z",
     "shell.execute_reply.started": "2024-04-20T11:17:05.357014Z"
    }
   },
   "outputs": [],
   "source": [
    "# Let's see which columns are there in the data\n",
    "df.columns"
   ]
  },
  {
   "cell_type": "markdown",
   "metadata": {},
   "source": [
    "### **3.2 About Missing Values**\n",
    "- There are many missing values in the data but we dont deal with them now because there are some columns like `player_dismissed` in this column if the batsman is out then there is value otherwise is has null values\n",
    "\n",
    "- And there are other columns like this so we dont deal with them"
   ]
  },
  {
   "cell_type": "markdown",
   "metadata": {},
   "source": [
    "# **4.0 Now Lets Starts the Analysis**"
   ]
  },
  {
   "cell_type": "markdown",
   "metadata": {},
   "source": [
    "## **4.1.0 Overall Analysis :**\n",
    "- In this analysis we are going to look at the overall statistics of the ICC Cricket World Cup 2023"
   ]
  },
  {
   "cell_type": "markdown",
   "metadata": {},
   "source": [
    "#### **4.1.1 Total Number of Sixes hit in ICC CWC 2023**"
   ]
  },
  {
   "cell_type": "code",
   "execution_count": null,
   "metadata": {
    "execution": {
     "iopub.execute_input": "2024-04-20T11:17:05.379636Z",
     "iopub.status.busy": "2024-04-20T11:17:05.379215Z",
     "iopub.status.idle": "2024-04-20T11:17:05.395708Z",
     "shell.execute_reply": "2024-04-20T11:17:05.394572Z",
     "shell.execute_reply.started": "2024-04-20T11:17:05.379604Z"
    }
   },
   "outputs": [],
   "source": [
    "tournament_6 = df[df['runs_off_bat'] == 6]['runs_off_bat'].count()\n",
    "tournament_6"
   ]
  },
  {
   "cell_type": "markdown",
   "metadata": {},
   "source": [
    "#### **4.1.2 Total Number of Fours hit in ICC CWC 2023**"
   ]
  },
  {
   "cell_type": "code",
   "execution_count": null,
   "metadata": {
    "execution": {
     "iopub.execute_input": "2024-04-20T11:17:05.397693Z",
     "iopub.status.busy": "2024-04-20T11:17:05.397313Z",
     "iopub.status.idle": "2024-04-20T11:17:05.408122Z",
     "shell.execute_reply": "2024-04-20T11:17:05.407247Z",
     "shell.execute_reply.started": "2024-04-20T11:17:05.397637Z"
    }
   },
   "outputs": [],
   "source": [
    "tournament_4 = df[df['runs_off_bat'] == 4]['runs_off_bat'].count()\n",
    "tournament_4"
   ]
  },
  {
   "cell_type": "markdown",
   "metadata": {},
   "source": [
    "#### **4.1.3 Let's compare the number of sixes and the number of fours hit in ICC CWC 2023**"
   ]
  },
  {
   "cell_type": "code",
   "execution_count": null,
   "metadata": {
    "execution": {
     "iopub.execute_input": "2024-04-20T11:17:05.410293Z",
     "iopub.status.busy": "2024-04-20T11:17:05.409624Z",
     "iopub.status.idle": "2024-04-20T11:17:05.575845Z",
     "shell.execute_reply": "2024-04-20T11:17:05.574645Z",
     "shell.execute_reply.started": "2024-04-20T11:17:05.410256Z"
    }
   },
   "outputs": [],
   "source": [
    "# Let's graph a pie chart to visualize the number of sixes and the number of fours hit in ICC CWC 2023\n",
    "plt.pie([tournament_6, tournament_4], labels = ['Sixes', 'Fours'], autopct = '%1.1f%%')\n",
    "plt.title('Number of Sixes and Fours hit in ICC CWC 2023')\n",
    "plt.show()"
   ]
  },
  {
   "cell_type": "markdown",
   "metadata": {},
   "source": [
    "#### **4.1.4 Total Number teams took place in ICC CWC 2023**"
   ]
  },
  {
   "cell_type": "code",
   "execution_count": null,
   "metadata": {
    "execution": {
     "iopub.execute_input": "2024-04-20T11:17:05.577466Z",
     "iopub.status.busy": "2024-04-20T11:17:05.577108Z",
     "iopub.status.idle": "2024-04-20T11:17:05.591214Z",
     "shell.execute_reply": "2024-04-20T11:17:05.589849Z",
     "shell.execute_reply.started": "2024-04-20T11:17:05.577435Z"
    }
   },
   "outputs": [],
   "source": [
    "list(set(df['batting_team'].unique().tolist() + df['batting_team'].unique().tolist()))"
   ]
  },
  {
   "cell_type": "markdown",
   "metadata": {},
   "source": [
    "## **4.2.0 Batting Analysis** \n",
    "- In this analysis we are going to look at the overall performance of batmen"
   ]
  },
  {
   "cell_type": "markdown",
   "metadata": {},
   "source": [
    "#### **4.2.1 Top 10 highest runs scorer of ICC WC 2023**"
   ]
  },
  {
   "cell_type": "code",
   "execution_count": null,
   "metadata": {
    "execution": {
     "iopub.execute_input": "2024-04-20T11:17:05.593528Z",
     "iopub.status.busy": "2024-04-20T11:17:05.593073Z",
     "iopub.status.idle": "2024-04-20T11:17:05.610224Z",
     "shell.execute_reply": "2024-04-20T11:17:05.608549Z",
     "shell.execute_reply.started": "2024-04-20T11:17:05.593488Z"
    }
   },
   "outputs": [],
   "source": [
    "df.groupby('striker')['runs_off_bat'].sum().sort_values(ascending=False).head(10)"
   ]
  },
  {
   "cell_type": "code",
   "execution_count": null,
   "metadata": {
    "execution": {
     "iopub.execute_input": "2024-04-20T11:17:05.613036Z",
     "iopub.status.busy": "2024-04-20T11:17:05.612597Z",
     "iopub.status.idle": "2024-04-20T11:17:05.87739Z",
     "shell.execute_reply": "2024-04-20T11:17:05.876228Z",
     "shell.execute_reply.started": "2024-04-20T11:17:05.612986Z"
    }
   },
   "outputs": [],
   "source": [
    "# Lets Plot the bar plot of the top 10 highest runs scorer of ICC CWC 2023 with vertical names\n",
    "\n",
    "plt.bar(df.groupby('striker')['runs_off_bat'].sum().sort_values(ascending=False).head(10).index,df.groupby('striker')['runs_off_bat'].sum().sort_values(ascending=False).head(10).values)\n",
    "plt.title('Top 10 highest runs scorer of ICC CWC 2023')\n",
    "plt.xticks(rotation='vertical')\n",
    "plt.show()"
   ]
  },
  {
   "cell_type": "markdown",
   "metadata": {},
   "source": [
    "#### **4.2.2 Top 10 players who hit most number of sixes in ICC WC 2023**"
   ]
  },
  {
   "cell_type": "code",
   "execution_count": null,
   "metadata": {
    "execution": {
     "iopub.execute_input": "2024-04-20T11:17:05.879869Z",
     "iopub.status.busy": "2024-04-20T11:17:05.878919Z",
     "iopub.status.idle": "2024-04-20T11:17:05.892808Z",
     "shell.execute_reply": "2024-04-20T11:17:05.891779Z",
     "shell.execute_reply.started": "2024-04-20T11:17:05.879837Z"
    }
   },
   "outputs": [],
   "source": [
    "sixes_df = df[df['runs_off_bat'] == 6]\n",
    "\n",
    "sixes_df.groupby('striker')['runs_off_bat'].count().sort_values(ascending=False).head(10)"
   ]
  },
  {
   "cell_type": "code",
   "execution_count": null,
   "metadata": {
    "execution": {
     "iopub.execute_input": "2024-04-20T11:17:05.900001Z",
     "iopub.status.busy": "2024-04-20T11:17:05.899654Z",
     "iopub.status.idle": "2024-04-20T11:17:06.158749Z",
     "shell.execute_reply": "2024-04-20T11:17:06.157482Z",
     "shell.execute_reply.started": "2024-04-20T11:17:05.899973Z"
    }
   },
   "outputs": [],
   "source": [
    "# Lets plot the line plot of the top 10 players who hit most number of sixes in ICC CWC 2023\n",
    "\n",
    "plt.bar(sixes_df.groupby('striker')['runs_off_bat'].count().sort_values(ascending=False).head(10).index,sixes_df.groupby('striker')['runs_off_bat'].count().sort_values(ascending=False).head(10).values)\n",
    "plt.title('Top 10 players who hit most number of sixes in ICC CWC 2023')\n",
    "plt.xticks(rotation='vertical')\n",
    "plt.show()"
   ]
  },
  {
   "cell_type": "markdown",
   "metadata": {},
   "source": [
    "#### **4.2.3 Top 10 batsmen who hit most number of sixes in sigle match**"
   ]
  },
  {
   "cell_type": "code",
   "execution_count": null,
   "metadata": {
    "execution": {
     "iopub.execute_input": "2024-04-20T11:17:06.16038Z",
     "iopub.status.busy": "2024-04-20T11:17:06.160017Z",
     "iopub.status.idle": "2024-04-20T11:17:06.177789Z",
     "shell.execute_reply": "2024-04-20T11:17:06.176668Z",
     "shell.execute_reply.started": "2024-04-20T11:17:06.160349Z"
    }
   },
   "outputs": [],
   "source": [
    "result1 = sixes_df.groupby(['match_id','striker'])['runs_off_bat'].count().sort_values(ascending=False).head(10)\n",
    "result1"
   ]
  },
  {
   "cell_type": "code",
   "execution_count": null,
   "metadata": {
    "execution": {
     "iopub.execute_input": "2024-04-20T11:17:06.179922Z",
     "iopub.status.busy": "2024-04-20T11:17:06.179302Z",
     "iopub.status.idle": "2024-04-20T11:17:06.19578Z",
     "shell.execute_reply": "2024-04-20T11:17:06.194607Z",
     "shell.execute_reply.started": "2024-04-20T11:17:06.179887Z"
    }
   },
   "outputs": [],
   "source": [
    "# Reseting the index of result1\n",
    "result1 = result1.reset_index()\n",
    "result1\n",
    "\n",
    "# converting result1 to dataframe\n",
    "result1 = pd.DataFrame(result1)\n",
    "result1\n"
   ]
  },
  {
   "cell_type": "code",
   "execution_count": null,
   "metadata": {
    "execution": {
     "iopub.execute_input": "2024-04-20T11:17:06.198067Z",
     "iopub.status.busy": "2024-04-20T11:17:06.197402Z",
     "iopub.status.idle": "2024-04-20T11:17:06.426347Z",
     "shell.execute_reply": "2024-04-20T11:17:06.424989Z",
     "shell.execute_reply.started": "2024-04-20T11:17:06.198025Z"
    }
   },
   "outputs": [],
   "source": [
    "# Lets plot a bar plot of the result1 usign striker and runs_off_bat using matplotlib\n",
    "\n",
    "plt.bar(result1['striker'], result1['runs_off_bat'])\n",
    "plt.title('Most Sixes hit in a Venue')\n",
    "plt.xticks(rotation='vertical')\n",
    "plt.show()"
   ]
  },
  {
   "cell_type": "markdown",
   "metadata": {},
   "source": [
    "### **4.2.4 Most Sixes hit in a Venue**"
   ]
  },
  {
   "cell_type": "code",
   "execution_count": null,
   "metadata": {
    "execution": {
     "iopub.execute_input": "2024-04-20T11:17:06.428885Z",
     "iopub.status.busy": "2024-04-20T11:17:06.428145Z",
     "iopub.status.idle": "2024-04-20T11:17:06.439565Z",
     "shell.execute_reply": "2024-04-20T11:17:06.438237Z",
     "shell.execute_reply.started": "2024-04-20T11:17:06.428842Z"
    }
   },
   "outputs": [],
   "source": [
    "sixes_df['venue'].value_counts().head(10)"
   ]
  },
  {
   "cell_type": "code",
   "execution_count": null,
   "metadata": {
    "execution": {
     "iopub.execute_input": "2024-04-20T11:17:06.441884Z",
     "iopub.status.busy": "2024-04-20T11:17:06.441421Z",
     "iopub.status.idle": "2024-04-20T11:17:06.750854Z",
     "shell.execute_reply": "2024-04-20T11:17:06.749435Z",
     "shell.execute_reply.started": "2024-04-20T11:17:06.441843Z"
    }
   },
   "outputs": [],
   "source": [
    "# Lets plot the bar plot of the number of sixes hit in a venue\n",
    "\n",
    "plt.bar(sixes_df['venue'].value_counts().head(10).index, sixes_df['venue'].value_counts().head(10).values)\n",
    "plt.title('Number of sixes hit in a venue')\n",
    "plt.xticks(rotation='vertical')\n",
    "plt.show()"
   ]
  },
  {
   "cell_type": "markdown",
   "metadata": {},
   "source": [
    "### **4.2.5 Top 10 players who hit most number of foures in ICC WC 2023**"
   ]
  },
  {
   "cell_type": "code",
   "execution_count": null,
   "metadata": {
    "execution": {
     "iopub.execute_input": "2024-04-20T11:17:06.753735Z",
     "iopub.status.busy": "2024-04-20T11:17:06.752481Z",
     "iopub.status.idle": "2024-04-20T11:17:06.766299Z",
     "shell.execute_reply": "2024-04-20T11:17:06.765172Z",
     "shell.execute_reply.started": "2024-04-20T11:17:06.753697Z"
    }
   },
   "outputs": [],
   "source": [
    "fours_df = df[df['runs_off_bat'] == 4]\n",
    "\n",
    "fours_df.groupby('striker')['runs_off_bat'].count().sort_values(ascending=False).head(10)"
   ]
  },
  {
   "cell_type": "code",
   "execution_count": null,
   "metadata": {
    "execution": {
     "iopub.execute_input": "2024-04-20T11:17:06.768818Z",
     "iopub.status.busy": "2024-04-20T11:17:06.767801Z",
     "iopub.status.idle": "2024-04-20T11:17:07.038825Z",
     "shell.execute_reply": "2024-04-20T11:17:07.037451Z",
     "shell.execute_reply.started": "2024-04-20T11:17:06.768784Z"
    }
   },
   "outputs": [],
   "source": [
    "# Lets plot the top 10 players who hit most number of foures in ICC CWC 2023\n",
    "\n",
    "plt.bar(fours_df.groupby('striker')['runs_off_bat'].count().sort_values(ascending=False).head(10).index, fours_df.groupby('striker')['runs_off_bat'].count().sort_values(ascending=False).head(10).values)\n",
    "plt.title('Top 10 players who hit most number of foures in ICC CWC 2023')\n",
    "plt.xticks(rotation='vertical')\n",
    "plt.show()"
   ]
  },
  {
   "cell_type": "markdown",
   "metadata": {},
   "source": [
    "### **4.2.6 Top 10 batsmen who hit most number of fours in sigle match**\n"
   ]
  },
  {
   "cell_type": "code",
   "execution_count": null,
   "metadata": {
    "execution": {
     "iopub.execute_input": "2024-04-20T11:17:07.041316Z",
     "iopub.status.busy": "2024-04-20T11:17:07.040931Z",
     "iopub.status.idle": "2024-04-20T11:17:07.057845Z",
     "shell.execute_reply": "2024-04-20T11:17:07.056518Z",
     "shell.execute_reply.started": "2024-04-20T11:17:07.041284Z"
    }
   },
   "outputs": [],
   "source": [
    "result2 =  fours_df.groupby(['match_id','striker'])['runs_off_bat'].count().sort_values(ascending=False).head(10)\n",
    "result2"
   ]
  },
  {
   "cell_type": "code",
   "execution_count": null,
   "metadata": {
    "execution": {
     "iopub.execute_input": "2024-04-20T11:17:07.060006Z",
     "iopub.status.busy": "2024-04-20T11:17:07.059553Z",
     "iopub.status.idle": "2024-04-20T11:17:07.077829Z",
     "shell.execute_reply": "2024-04-20T11:17:07.076477Z",
     "shell.execute_reply.started": "2024-04-20T11:17:07.059966Z"
    }
   },
   "outputs": [],
   "source": [
    "# reset_index of result2\n",
    "result2 = result2.reset_index()\n",
    "result2\n",
    "\n",
    "# converting result2 to dataframe\n",
    "result2 = pd.DataFrame(result2)\n",
    "result2"
   ]
  },
  {
   "cell_type": "code",
   "execution_count": null,
   "metadata": {
    "execution": {
     "iopub.execute_input": "2024-04-20T11:17:07.079357Z",
     "iopub.status.busy": "2024-04-20T11:17:07.079022Z",
     "iopub.status.idle": "2024-04-20T11:17:07.368526Z",
     "shell.execute_reply": "2024-04-20T11:17:07.367376Z",
     "shell.execute_reply.started": "2024-04-20T11:17:07.07933Z"
    }
   },
   "outputs": [],
   "source": [
    "# Lets plot a bar plot of the result2 usign striker and runs_off_bat using matplotlib\n",
    "\n",
    "plt.bar(result2['striker'], result2['runs_off_bat'])\n",
    "plt.title('Most Fours in single match')\n",
    "plt.xticks(rotation='vertical')\n",
    "plt.show()"
   ]
  },
  {
   "cell_type": "markdown",
   "metadata": {},
   "source": [
    "### **4.2.7 Most fours hit in a Venue**"
   ]
  },
  {
   "cell_type": "code",
   "execution_count": null,
   "metadata": {
    "execution": {
     "iopub.execute_input": "2024-04-20T11:17:07.370176Z",
     "iopub.status.busy": "2024-04-20T11:17:07.369861Z",
     "iopub.status.idle": "2024-04-20T11:17:07.380827Z",
     "shell.execute_reply": "2024-04-20T11:17:07.379581Z",
     "shell.execute_reply.started": "2024-04-20T11:17:07.37015Z"
    }
   },
   "outputs": [],
   "source": [
    "fours_df['venue'].value_counts().head(10)"
   ]
  },
  {
   "cell_type": "code",
   "execution_count": null,
   "metadata": {
    "execution": {
     "iopub.execute_input": "2024-04-20T11:17:07.382912Z",
     "iopub.status.busy": "2024-04-20T11:17:07.38257Z",
     "iopub.status.idle": "2024-04-20T11:17:07.698377Z",
     "shell.execute_reply": "2024-04-20T11:17:07.697163Z",
     "shell.execute_reply.started": "2024-04-20T11:17:07.382882Z"
    }
   },
   "outputs": [],
   "source": [
    "# Lets plot the number of fours hit in a Venue\n",
    "\n",
    "plt.bar(fours_df['venue'].value_counts().head(10).index, fours_df['venue'].value_counts().head(10).values)\n",
    "plt.title('Number of fours hit in a venue')\n",
    "plt.xticks(rotation='vertical')\n",
    "plt.show()"
   ]
  },
  {
   "cell_type": "markdown",
   "metadata": {},
   "source": [
    "### **4.2.8 Top 10 Teams which scored most number of runs in a match**"
   ]
  },
  {
   "cell_type": "code",
   "execution_count": null,
   "metadata": {
    "execution": {
     "iopub.execute_input": "2024-04-20T11:17:07.700212Z",
     "iopub.status.busy": "2024-04-20T11:17:07.699849Z",
     "iopub.status.idle": "2024-04-20T11:17:07.726838Z",
     "shell.execute_reply": "2024-04-20T11:17:07.725874Z",
     "shell.execute_reply.started": "2024-04-20T11:17:07.70017Z"
    }
   },
   "outputs": [],
   "source": [
    "result3 = (df[df['innings'] == 1].groupby(['match_id','batting_team'])['runs_off_bat'].sum() + df[df['innings'] == 1].groupby(['match_id','batting_team'])['extras'].sum()).sort_values(ascending=False).head(10)\n",
    "result3"
   ]
  },
  {
   "cell_type": "markdown",
   "metadata": {},
   "source": [
    "### **4.2.9 Top 10 Batsmen who scored most number of runs in a match**"
   ]
  },
  {
   "cell_type": "code",
   "execution_count": null,
   "metadata": {
    "execution": {
     "iopub.execute_input": "2024-04-20T11:17:07.72869Z",
     "iopub.status.busy": "2024-04-20T11:17:07.728124Z",
     "iopub.status.idle": "2024-04-20T11:17:07.745639Z",
     "shell.execute_reply": "2024-04-20T11:17:07.744524Z",
     "shell.execute_reply.started": "2024-04-20T11:17:07.728656Z"
    }
   },
   "outputs": [],
   "source": [
    "result3 = df.groupby(['match_id','striker'])['runs_off_bat'].sum().sort_values(ascending=False).head(10)\n",
    "result3"
   ]
  },
  {
   "cell_type": "code",
   "execution_count": null,
   "metadata": {
    "execution": {
     "iopub.execute_input": "2024-04-20T11:17:07.747552Z",
     "iopub.status.busy": "2024-04-20T11:17:07.747025Z",
     "iopub.status.idle": "2024-04-20T11:17:07.761861Z",
     "shell.execute_reply": "2024-04-20T11:17:07.760346Z",
     "shell.execute_reply.started": "2024-04-20T11:17:07.747523Z"
    }
   },
   "outputs": [],
   "source": [
    "# reset the index of result3\n",
    "result3 = result3.reset_index()\n",
    "result3\n",
    "\n",
    "# converting result3 to dataframe\n",
    "result3 = pd.DataFrame(result3)\n",
    "result3"
   ]
  },
  {
   "cell_type": "code",
   "execution_count": null,
   "metadata": {
    "execution": {
     "iopub.execute_input": "2024-04-20T11:17:07.764122Z",
     "iopub.status.busy": "2024-04-20T11:17:07.763683Z",
     "iopub.status.idle": "2024-04-20T11:17:08.045321Z",
     "shell.execute_reply": "2024-04-20T11:17:08.044108Z",
     "shell.execute_reply.started": "2024-04-20T11:17:07.764084Z"
    }
   },
   "outputs": [],
   "source": [
    "# Lets plot a bar plot of the result3\n",
    "\n",
    "plt.bar(result3['striker'], result3['runs_off_bat'])\n",
    "plt.title('Players who scored most runs in a single match')\n",
    "plt.xticks(rotation='vertical')\n",
    "plt.show()"
   ]
  },
  {
   "cell_type": "markdown",
   "metadata": {},
   "source": [
    "### **4.2.10 Overall Team Score in ICC CWC_23** "
   ]
  },
  {
   "cell_type": "code",
   "execution_count": null,
   "metadata": {
    "execution": {
     "iopub.execute_input": "2024-04-20T11:17:08.046825Z",
     "iopub.status.busy": "2024-04-20T11:17:08.0465Z",
     "iopub.status.idle": "2024-04-20T11:17:08.064284Z",
     "shell.execute_reply": "2024-04-20T11:17:08.062924Z",
     "shell.execute_reply.started": "2024-04-20T11:17:08.046798Z"
    }
   },
   "outputs": [],
   "source": [
    "(df.groupby('batting_team')['runs_off_bat'].sum() + df.groupby('batting_team')['extras'].sum()).sort_values(ascending = False)"
   ]
  },
  {
   "cell_type": "code",
   "execution_count": null,
   "metadata": {
    "execution": {
     "iopub.execute_input": "2024-04-20T11:17:08.066365Z",
     "iopub.status.busy": "2024-04-20T11:17:08.065991Z",
     "iopub.status.idle": "2024-04-20T11:17:08.324271Z",
     "shell.execute_reply": "2024-04-20T11:17:08.323095Z",
     "shell.execute_reply.started": "2024-04-20T11:17:08.066336Z"
    }
   },
   "outputs": [],
   "source": [
    "# lets plot the bar chart of the overall team score in the tournament\n",
    "\n",
    "plt.bar((df.groupby('batting_team')['runs_off_bat'].sum() + df.groupby('batting_team')['extras'].sum()).sort_values(ascending = False).index, (df.groupby('batting_team')['runs_off_bat'].sum() + df.groupby('batting_team')['extras'].sum()).sort_values(ascending = False).values)\n",
    "plt.title('Overall Team Score in ICC WC_23')\n",
    "plt.xticks(rotation='vertical')\n",
    "plt.show()"
   ]
  },
  {
   "cell_type": "markdown",
   "metadata": {},
   "source": [
    "### **4.2.11 Overall Batsman Performance**\n",
    "- In this analysis you have to just pass the batsman name and it will return the overall performance of the batsman\n",
    "\n",
    "- **1st Function which is (OverallBatsmanStats) will calculate the overall tournament stats:**\n",
    "    - player : Name of the player\n",
    "    - Matches : Total number of matches played\n",
    "    - Score : Total number of runs scored \n",
    "    - Avg : Average\n",
    "    - SR : Strikerate\n",
    "    - BallsFaced : Total number of balls played\n",
    "    - HS : Highest score\n",
    "    - 50s : Total number of 50's scored\n",
    "    - 100s : Total number of 100's scored\n",
    "    - Dismissed : In how many matches the played got out\n",
    "\n",
    "- **2nd Function which is (AgainstEachTeamBatsmanAnalysis) will calculate only for single match:**\n",
    "    - Scores : Total number of runs scored in match\t\n",
    "    - Balls\t: Total number of ball faced in match\n",
    "    - Opponent : Which was the opponent team that played\t\n",
    "    - Venue : Where the match was played"
   ]
  },
  {
   "cell_type": "code",
   "execution_count": null,
   "metadata": {
    "execution": {
     "iopub.execute_input": "2024-04-20T11:17:08.329235Z",
     "iopub.status.busy": "2024-04-20T11:17:08.328631Z",
     "iopub.status.idle": "2024-04-20T11:17:08.341479Z",
     "shell.execute_reply": "2024-04-20T11:17:08.340323Z",
     "shell.execute_reply.started": "2024-04-20T11:17:08.329201Z"
    }
   },
   "outputs": [],
   "source": [
    "\n",
    "def OverallBatsmanStats(p_name):\n",
    "    \n",
    "    player = p_name\n",
    "    \n",
    "    playerList = df['striker'].unique().tolist()\n",
    "    \n",
    "    \n",
    "    #Checking if the player name is in list of players who played ICC CWC_2023\n",
    "    if player in playerList:\n",
    "        batsman = df[df['striker'] == player]\n",
    "        \n",
    "        # Find number of matches played by a player\n",
    "        matches = batsman['match_id'].nunique()\n",
    "        \n",
    "        # Find number of runs scored by a player\n",
    "        score = batsman['runs_off_bat'].sum()\n",
    "        \n",
    "        # Find number of 50's scored by a player\n",
    "        runs = batsman.groupby('match_id')['runs_off_bat'].sum().values.tolist()\n",
    "\n",
    "        fiftees = 0\n",
    "        hundreds = 0\n",
    "\n",
    "        for i in runs:\n",
    "            if i >= 50 and i <100:\n",
    "                fiftees += 1\n",
    "                \n",
    "            elif i >= 100:\n",
    "                hundreds += 1\n",
    "                \n",
    "        # print(f'Number of 50s hit by a player is : {fiftees}')\n",
    "        # print(f'Number of 50s hit by a player is : {hundreds}')\n",
    "            \n",
    "            \n",
    "        # Find the highest runs scored by a player\n",
    "        highestScore = batsman.groupby('match_id')['runs_off_bat'].sum().max()\n",
    "        \n",
    "        # Find the number of times a batsman has been dismissed\n",
    "        dismissed = batsman.player_dismissed.count()\n",
    "        \n",
    "        # Find number of Balls Faced by a player\n",
    "        ballsFaced = batsman['runs_off_bat'].count()\n",
    "        \n",
    "        # Find SR of Batsman\n",
    "        sr = (score/ballsFaced)*100\n",
    "        \n",
    "        # Find Average of Player\n",
    "        avg = score/dismissed\n",
    "        \n",
    "        \n",
    "        data = {\n",
    "            'PlayeName': [player],\n",
    "            'Matches' : [matches],\n",
    "            'Score' : [score],\n",
    "            'Avg' : [round(avg,3)],\n",
    "            'SR' : [round(sr,3)],\n",
    "            'BallsFaced': [ballsFaced],\n",
    "            'HS' : [highestScore],\n",
    "            '50s' : [fiftees],\n",
    "            '100s' : [hundreds],\n",
    "            'Dismissed': [dismissed]\n",
    "        }\n",
    "        \n",
    "        Stats_df = pd.DataFrame(data)\n",
    "                \n",
    "        return Stats_df\n",
    "    \n",
    "    else:\n",
    "        return 'Invalid Player Name, Please Re-Enter the name of Player or Check the spelling of the name'"
   ]
  },
  {
   "cell_type": "code",
   "execution_count": null,
   "metadata": {
    "execution": {
     "iopub.execute_input": "2024-04-20T11:17:08.343956Z",
     "iopub.status.busy": "2024-04-20T11:17:08.343046Z",
     "iopub.status.idle": "2024-04-20T11:17:08.360749Z",
     "shell.execute_reply": "2024-04-20T11:17:08.359236Z",
     "shell.execute_reply.started": "2024-04-20T11:17:08.343913Z"
    }
   },
   "outputs": [],
   "source": [
    "def AgainstEachTeamBatsmanAnalysis(p_name):\n",
    "    player = p_name\n",
    "    \n",
    "    playerList = df['striker'].unique().tolist()\n",
    "    \n",
    "    #Checking if the player name is in list of players who played ICC CWC_2023\n",
    "    if player in playerList:\n",
    "        \n",
    "        batsman = df[df['striker'] == player]\n",
    "        \n",
    "        matches_played = sorted(batsman['match_id'].unique().tolist())\n",
    "        \n",
    "        matches_played\n",
    "        \n",
    "                \n",
    "        scores = []\n",
    "        balls = []\n",
    "        opponent = []\n",
    "        venue = []\n",
    "\n",
    "        for i in matches_played:\n",
    "            scores.append(batsman[batsman['match_id'] == i]['runs_off_bat'].sum())\n",
    "            balls.append(batsman[batsman['match_id'] == i]['runs_off_bat'].count())\n",
    "            opponent.append(batsman[batsman['match_id'] == i]['bowling_team'].unique()[0])\n",
    "            venue.append(batsman[batsman['match_id'] == i]['venue'].unique()[0].split(',')[-1])\n",
    "        \n",
    "        \n",
    "        teamWise = {\n",
    "            'Scores' : scores,\n",
    "            'Balls' : balls,\n",
    "            'Opponent' : opponent,\n",
    "            'Venue' : venue\n",
    "        }\n",
    "        \n",
    "        \n",
    "        TeamWiseStats = pd.DataFrame(teamWise)\n",
    "        \n",
    "        return TeamWiseStats\n",
    "    \n",
    "    else:\n",
    "        return 'Invalid Player Name, Please Re-Enter the name of Player or Check the spelling of the name'"
   ]
  },
  {
   "cell_type": "code",
   "execution_count": null,
   "metadata": {
    "execution": {
     "iopub.execute_input": "2024-04-20T11:17:08.362966Z",
     "iopub.status.busy": "2024-04-20T11:17:08.362388Z",
     "iopub.status.idle": "2024-04-20T11:17:08.39459Z",
     "shell.execute_reply": "2024-04-20T11:17:08.393267Z",
     "shell.execute_reply.started": "2024-04-20T11:17:08.362921Z"
    }
   },
   "outputs": [],
   "source": [
    "OverallBatsmanStats('V Kohli')"
   ]
  },
  {
   "cell_type": "code",
   "execution_count": null,
   "metadata": {
    "execution": {
     "iopub.execute_input": "2024-04-20T11:17:08.396788Z",
     "iopub.status.busy": "2024-04-20T11:17:08.396258Z",
     "iopub.status.idle": "2024-04-20T11:17:08.441938Z",
     "shell.execute_reply": "2024-04-20T11:17:08.440594Z",
     "shell.execute_reply.started": "2024-04-20T11:17:08.396747Z"
    }
   },
   "outputs": [],
   "source": [
    "AgainstEachTeamBatsmanAnalysis('V Kohli')"
   ]
  },
  {
   "cell_type": "markdown",
   "metadata": {},
   "source": [
    "---"
   ]
  },
  {
   "cell_type": "code",
   "execution_count": null,
   "metadata": {},
   "outputs": [],
   "source": []
  }
 ],
 "metadata": {
  "kaggle": {
   "accelerator": "none",
   "dataSources": [
    {
     "datasetId": 3879062,
     "sourceId": 7087794,
     "sourceType": "datasetVersion"
    }
   ],
   "dockerImageVersionId": 30646,
   "isGpuEnabled": false,
   "isInternetEnabled": false,
   "language": "python",
   "sourceType": "notebook"
  },
  "kernelspec": {
   "display_name": "Python 3 (ipykernel)",
   "language": "python",
   "name": "python3"
  },
  "language_info": {
   "codemirror_mode": {
    "name": "ipython",
    "version": 3
   },
   "file_extension": ".py",
   "mimetype": "text/x-python",
   "name": "python",
   "nbconvert_exporter": "python",
   "pygments_lexer": "ipython3",
   "version": "3.11.7"
  }
 },
 "nbformat": 4,
 "nbformat_minor": 4
}
